{
  "cells": [
    {
      "cell_type": "markdown",
      "metadata": {
        "id": "_hFrvDjAQRzA"
      },
      "source": [
        "Hand Written digit prediction - Classification Anaysis\n",
        "\n",
        " The digits dataset consists of 8x8 pixel images of digits. The images attribute of the dataset stores 8x8 arrays of grayscale values for each\n",
        "image. We will use these arrays to visualize the first 4 images. The target attribute of the dataset stores the digit each image represents"
      ]
    },
    {
      "cell_type": "markdown",
      "metadata": {
        "id": "XkySpvMpRHNK"
      },
      "source": [
        "Import Library"
      ]
    },
    {
      "cell_type": "code",
      "execution_count": 8,
      "metadata": {
        "id": "iJZbAqR1RLVG"
      },
      "outputs": [],
      "source": [
        "import pandas as pd"
      ]
    },
    {
      "cell_type": "code",
      "execution_count": 9,
      "metadata": {
        "id": "0Z5L0QdCQLvE"
      },
      "outputs": [],
      "source": [
        "import numpy as np"
      ]
    },
    {
      "cell_type": "code",
      "execution_count": 10,
      "metadata": {
        "id": "AjsGkx0JUU4e"
      },
      "outputs": [],
      "source": [
        "import matplotlib.pyplot as plt"
      ]
    },
    {
      "cell_type": "markdown",
      "metadata": {
        "id": "N4fgZ8BDUfz0"
      },
      "source": [
        "# **Import Data**"
      ]
    },
    {
      "cell_type": "code",
      "execution_count": 11,
      "metadata": {
        "id": "uiy1pFSSU320"
      },
      "outputs": [],
      "source": [
        "from sklearn.datasets import load_digits"
      ]
    },
    {
      "cell_type": "code",
      "execution_count": 12,
      "metadata": {
        "id": "6xMGIHSoUulk"
      },
      "outputs": [],
      "source": [
        "df = load_digits()"
      ]
    },
    {
      "cell_type": "code",
      "execution_count": null,
      "metadata": {
        "colab": {
          "base_uri": "https://localhost:8080/",
          "height": 227
        },
        "id": "ehszdwAAVWZJ",
        "outputId": "3038fdc3-11d3-4899-a247-3384a2d76d58"
      },
      "outputs": [],
      "source": [
        "_, axes = plt.subplots(nrows=1, ncols=4, figsize=(10, 3))\n",
        "for ax, image, label in zip(axes, df.images, df.target):\n",
        "    ax.set_axis_off()\n",
        "    ax.imshow(image, cmap=plt.cm.gray_r, interpolation=\"nearest\")\n",
        "    ax.set_title(\"Training: %i\" % label)"
      ]
    },
    {
      "cell_type": "markdown",
      "metadata": {
        "id": "gdFBVNKlVgSk"
      },
      "source": [
        "Data preprocessing"
      ]
    },
    {
      "cell_type": "code",
      "execution_count": null,
      "metadata": {
        "colab": {
          "base_uri": "https://localhost:8080/"
        },
        "id": "1Lu6XAmpVlVk",
        "outputId": "87d8b9b0-a3a7-4dae-cae8-15041943c5df"
      },
      "outputs": [],
      "source": [
        "df.images.shape"
      ]
    },
    {
      "cell_type": "code",
      "execution_count": null,
      "metadata": {
        "colab": {
          "base_uri": "https://localhost:8080/"
        },
        "id": "e9dKWrgDV-Ez",
        "outputId": "b596fda5-3eec-41bd-c8a2-d4fe15ed68d2"
      },
      "outputs": [],
      "source": [
        "df.images[0]"
      ]
    },
    {
      "cell_type": "code",
      "execution_count": null,
      "metadata": {
        "colab": {
          "base_uri": "https://localhost:8080/"
        },
        "id": "A9g6l0VuWCg4",
        "outputId": "46dd2706-0e79-41c3-dd30-5fbb79585424"
      },
      "outputs": [],
      "source": [
        "df.images[0].shape"
      ]
    },
    {
      "cell_type": "code",
      "execution_count": null,
      "metadata": {
        "colab": {
          "base_uri": "https://localhost:8080/"
        },
        "id": "OzTSdRvkZuMY",
        "outputId": "237b146c-236f-4ff4-a57d-cebae9d77d77"
      },
      "outputs": [],
      "source": [
        "len(df.images)"
      ]
    },
    {
      "cell_type": "code",
      "execution_count": 18,
      "metadata": {
        "id": "v5_wltmaZ1xy"
      },
      "outputs": [],
      "source": [
        "n_samples = len(df.images)\n",
        "data = df.images.reshape((n_samples, -1))"
      ]
    },
    {
      "cell_type": "code",
      "execution_count": null,
      "metadata": {
        "colab": {
          "base_uri": "https://localhost:8080/"
        },
        "id": "1Mnrlc6AaRA3",
        "outputId": "f6f51391-137a-43a8-c885-df4107382b39"
      },
      "outputs": [],
      "source": [
        "data[0]"
      ]
    },
    {
      "cell_type": "code",
      "execution_count": null,
      "metadata": {
        "colab": {
          "base_uri": "https://localhost:8080/"
        },
        "id": "plXKgzF2aUxr",
        "outputId": "4fffc0b6-3a29-4b0a-dfb1-54092dd6d5e7"
      },
      "outputs": [],
      "source": [
        "data[0].shape"
      ]
    },
    {
      "cell_type": "code",
      "execution_count": null,
      "metadata": {
        "colab": {
          "base_uri": "https://localhost:8080/"
        },
        "id": "DwRwXOkdadMK",
        "outputId": "16f5a0cb-ca80-4cad-b870-2a240e56c8e6"
      },
      "outputs": [],
      "source": [
        "data.shape"
      ]
    },
    {
      "cell_type": "markdown",
      "metadata": {
        "id": "36Rw92D1aiUo"
      },
      "source": [
        "#**Scaling Image Data**\n",
        "\n"
      ]
    },
    {
      "cell_type": "code",
      "execution_count": null,
      "metadata": {
        "colab": {
          "base_uri": "https://localhost:8080/"
        },
        "id": "MO9g69YVam2O",
        "outputId": "61458e45-5e3e-4feb-9d8c-ae7de64ba92c"
      },
      "outputs": [],
      "source": [
        "data.min()"
      ]
    },
    {
      "cell_type": "code",
      "execution_count": null,
      "metadata": {
        "colab": {
          "base_uri": "https://localhost:8080/"
        },
        "id": "XLQn7RQ_azeP",
        "outputId": "9c52b0a3-f282-472c-eb7e-4c0979adf3f5"
      },
      "outputs": [],
      "source": [
        "data.max()"
      ]
    },
    {
      "cell_type": "code",
      "execution_count": 24,
      "metadata": {
        "id": "_yIPr9iYa4OW"
      },
      "outputs": [],
      "source": [
        "data = data/16"
      ]
    },
    {
      "cell_type": "code",
      "execution_count": null,
      "metadata": {
        "colab": {
          "base_uri": "https://localhost:8080/"
        },
        "id": "IG6i_Xd2bAMH",
        "outputId": "0b1b833c-0e5b-4fd7-c3c0-40ba97345a4e"
      },
      "outputs": [],
      "source": [
        "data.min()"
      ]
    },
    {
      "cell_type": "code",
      "execution_count": null,
      "metadata": {
        "colab": {
          "base_uri": "https://localhost:8080/"
        },
        "id": "aNRcyBLjbRIl",
        "outputId": "69154ab3-9fd2-49e6-bc61-9a50c61d3920"
      },
      "outputs": [],
      "source": [
        "data.max()"
      ]
    },
    {
      "cell_type": "code",
      "execution_count": null,
      "metadata": {
        "colab": {
          "base_uri": "https://localhost:8080/"
        },
        "id": "VM_58gAlbj4z",
        "outputId": "b7032b76-94ea-4abe-c709-c14ae5e52f84"
      },
      "outputs": [],
      "source": [
        "data[0]"
      ]
    },
    {
      "cell_type": "markdown",
      "metadata": {
        "id": "lQtZbc60br8f"
      },
      "source": [
        "**Train Test split Data**"
      ]
    },
    {
      "cell_type": "code",
      "execution_count": 28,
      "metadata": {
        "id": "dorHFecPb4sk"
      },
      "outputs": [],
      "source": [
        "from sklearn.model_selection import train_test_split"
      ]
    },
    {
      "cell_type": "code",
      "execution_count": 29,
      "metadata": {
        "id": "aCBt-JV5b7pg"
      },
      "outputs": [],
      "source": [
        "X_train, X_test, y_train, y_test = train_test_split(data, df.target, test_size=0.3)"
      ]
    },
    {
      "cell_type": "code",
      "execution_count": null,
      "metadata": {
        "colab": {
          "base_uri": "https://localhost:8080/"
        },
        "id": "Oe-RlX5tiqis",
        "outputId": "0a36d2df-037d-4e99-9bfb-8366780870f6"
      },
      "outputs": [],
      "source": [
        "X_train.shape, X_test.shape, y_train.shape, y_test.shape"
      ]
    },
    {
      "cell_type": "markdown",
      "metadata": {
        "id": "egwVnn6LjXhI"
      },
      "source": [
        "#**Random Forest Model**"
      ]
    },
    {
      "cell_type": "code",
      "execution_count": 31,
      "metadata": {
        "id": "6k9i78NcjsgK"
      },
      "outputs": [],
      "source": [
        "from sklearn.ensemble import RandomForestClassifier"
      ]
    },
    {
      "cell_type": "code",
      "execution_count": 32,
      "metadata": {
        "id": "j73IwOGott8n"
      },
      "outputs": [],
      "source": [
        "rf = RandomForestClassifier()"
      ]
    },
    {
      "cell_type": "code",
      "execution_count": null,
      "metadata": {
        "colab": {
          "base_uri": "https://localhost:8080/",
          "height": 75
        },
        "id": "KcXO3QIs_9y5",
        "outputId": "d7edbd03-2d15-44f6-a30d-3b0fe6b809ee"
      },
      "outputs": [],
      "source": [
        "rf.fit(X_train, y_train)"
      ]
    },
    {
      "cell_type": "markdown",
      "metadata": {
        "id": "UFWjBUsPADSE"
      },
      "source": [
        "Predict Test Data"
      ]
    },
    {
      "cell_type": "code",
      "execution_count": 35,
      "metadata": {
        "id": "1uKG0Zl2AAy-"
      },
      "outputs": [],
      "source": [
        "y_pred = rf.predict(X_test)"
      ]
    },
    {
      "cell_type": "code",
      "execution_count": null,
      "metadata": {
        "colab": {
          "base_uri": "https://localhost:8080/"
        },
        "id": "BaRfhDF3AME5",
        "outputId": "3fa4f409-638b-436e-f70d-b9934a79f440"
      },
      "outputs": [],
      "source": [
        "y_pred"
      ]
    },
    {
      "cell_type": "markdown",
      "metadata": {
        "id": "hITDyM2AAVtx"
      },
      "source": [
        "Model Accuracy"
      ]
    },
    {
      "cell_type": "code",
      "execution_count": 37,
      "metadata": {
        "id": "DlgMOVk2AQJG"
      },
      "outputs": [],
      "source": [
        "from sklearn.metrics import confusion_matrix, classification_report"
      ]
    },
    {
      "cell_type": "code",
      "execution_count": null,
      "metadata": {
        "colab": {
          "base_uri": "https://localhost:8080/"
        },
        "id": "zx2WrJteAlPg",
        "outputId": "3e1f7e29-c0b9-47c4-d03c-8f744dd419bb"
      },
      "outputs": [],
      "source": [
        "confusion_matrix(y_test, y_pred)"
      ]
    },
    {
      "cell_type": "code",
      "execution_count": null,
      "metadata": {
        "colab": {
          "base_uri": "https://localhost:8080/"
        },
        "id": "jGXiBZDgAthb",
        "outputId": "d708a34b-5914-4a10-ad14-11218db63913"
      },
      "outputs": [],
      "source": [
        "print(classification_report(y_test, y_pred))"
      ]
    }
  ],
  "metadata": {
    "colab": {
      "provenance": []
    },
    "kernelspec": {
      "display_name": "Python 3",
      "name": "python3"
    },
    "language_info": {
      "name": "python"
    }
  },
  "nbformat": 4,
  "nbformat_minor": 0
}
